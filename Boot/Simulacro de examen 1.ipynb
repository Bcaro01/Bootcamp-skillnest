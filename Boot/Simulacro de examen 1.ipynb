{
 "cells": [
  {
   "cell_type": "markdown",
   "id": "7bb9cce1",
   "metadata": {},
   "source": [
    "### Simulacro de examen\n",
    "Bruno Caro"
   ]
  },
  {
   "cell_type": "code",
   "execution_count": 24,
   "id": "553d0637",
   "metadata": {},
   "outputs": [],
   "source": [
    "class product:\n",
    "    def __init__(self,Nombre, Precio, stock):\n",
    "        self.nombre = Nombre\n",
    "        self.precio = Precio\n",
    "        self.stock = stock\n",
    "    \n",
    "    def venta(self, cantidad):\n",
    "        if cantidad > self.stock:\n",
    "            print(\"No hay suficiente cantidad en stock.\")\n",
    "            return 0\n",
    "        else:\n",
    "            self.stock -= cantidad\n",
    "            total = self.precio * cantidad\n",
    "            print(f\"Venta realizada: {cantidad} unidades de {self.nombre} por un total de {total}.\")\n",
    "            return total\n",
    "    \n",
    "    def ingreso_stock(self, cantidad):\n",
    "        self.stock += cantidad\n",
    "        print(f\"Ingreso de stock: {cantidad} unidades de {self.nombre}. Stock actual: {self.stock}.\")\n",
    "\n",
    "        "
   ]
  },
  {
   "cell_type": "code",
   "execution_count": 25,
   "id": "4458be0b",
   "metadata": {},
   "outputs": [
    {
     "name": "stdout",
     "output_type": "stream",
     "text": [
      "Venta realizada: 3 unidades de Tortas por un total de 300.\n"
     ]
    },
    {
     "data": {
      "text/plain": [
       "300"
      ]
     },
     "execution_count": 25,
     "metadata": {},
     "output_type": "execute_result"
    }
   ],
   "source": [
    "Tortas = product(\"Tortas\", 100, 10)\n",
    "Tortas.venta(3)"
   ]
  },
  {
   "cell_type": "code",
   "execution_count": 26,
   "id": "a5402f36",
   "metadata": {},
   "outputs": [
    {
     "name": "stdout",
     "output_type": "stream",
     "text": [
      "Ingreso de stock: 89 unidades de Tortas. Stock actual: 96.\n"
     ]
    }
   ],
   "source": [
    "Tortas.ingreso_stock(89)"
   ]
  },
  {
   "cell_type": "code",
   "execution_count": 34,
   "id": "ba245ac9",
   "metadata": {},
   "outputs": [
    {
     "name": "stdout",
     "output_type": "stream",
     "text": [
      "{'nombre': 'Tortas', 'precio': 100, 'stock': 96}\n"
     ]
    }
   ],
   "source": [
    "print(Tortas.__dict__)\n"
   ]
  }
 ],
 "metadata": {
  "kernelspec": {
   "display_name": "USS2",
   "language": "python",
   "name": "python3"
  },
  "language_info": {
   "codemirror_mode": {
    "name": "ipython",
    "version": 3
   },
   "file_extension": ".py",
   "mimetype": "text/x-python",
   "name": "python",
   "nbconvert_exporter": "python",
   "pygments_lexer": "ipython3",
   "version": "3.7.16"
  }
 },
 "nbformat": 4,
 "nbformat_minor": 5
}
