{
 "cells": [
  {
   "cell_type": "markdown",
   "id": "b8ac5bf6",
   "metadata": {},
   "source": [
    "## Instrucciones\n",
    "\n",
    "#### Descripción del Problema: \n",
    "- Imagina que estás desarrollando un sistema de gestión de calificaciones para una escuela. El sistema debe permitir a los profesores ingresar las calificaciones de los estudiantes para diferentes asignaturas y luego calcular el promedio de cada estudiante. Además, el sistema debe determinar si el estudiante ha aprobado o reprobado basándose en su promedio. Para aprobar, un estudiante debe tener un promedio de al menos 6.0.\n",
    "#### Requisitos del Sistema:\n",
    "- El programa debe pedir al usuario que ingrese el número de estudiantes.\n",
    "- Para cada estudiante, el programa debe pedir al usuario que ingrese su nombre.\n",
    "- Luego, el programa debe pedir al usuario que ingrese el número de asignaturas.\n",
    "- Para cada asignatura, el programa debe pedir al usuario que ingrese el nombre de la asignatura y la calificación obtenida.\n",
    "- El programa debe calcular el promedio de calificaciones para cada estudiante.\n",
    "- Finalmente, el programa debe imprimir el nombre del estudiante, su promedio y un mensaje indicando si ha aprobado o reprobado.\n",
    "#### Detalles Específicos:\n",
    "- Si se ingresa un valor no numérico para una calificación, el programa debe manejar el error e indicar que se ha ingresado un valor no válido.\n",
    "- Si se ingresa una calificación fuera del rango de 0 a 10, el programa debe ignorar esa calificación y pedir al usuario que ingrese una calificación válida.\n",
    "- El programa debe imprimir un resumen al final que incluya el nombre de todos los estudiantes, sus promedios y su estado (aprobado o reprobado).\n",
    "- El programa debe ser robusto y manejar casos en los que no se ingresen datos o se ingresen datos incorrectos.\n",
    "#### Consideraciones Adicionales:\n",
    "- Asegúrate de utilizar funciones para organizar tu código y evitar redundancias.\n",
    "- Usa comentarios para explicar cada sección de tu código.\n",
    "- Considera posibles errores y cómo manejarlos adecuadamente.\n",
    "- Piensa en la experiencia del usuario y asegúrate de que las instrucciones sean claras y concisas."
   ]
  },
  {
   "cell_type": "code",
   "execution_count": null,
   "id": "334abb9d",
   "metadata": {},
   "outputs": [
    {
     "data": {
      "text/plain": [
       "\"\\ndef notas_estudiantes(n = int(input('Ingrese la cantidad de estudiantes')), a = int(input('Ingrese la cantidad de asignaturas'))):\\n    names = nombres(n)\\n    subjects = asignaturas(a)\\n    data = {}\\n    \\n    for i in range(len(names)):\\n        for j in range(len(subjects)):\\n            try:\\n                grade = float(input(f'Ingrese la nota del estudiante {names[i]} en la asignatura {subjects[j]}: '))\\n                if grade < 1 or grade > 10:\\n                    raise ValueError('La nota debe estar entre 1 y 10')\\n                    break\\n                data[names[i]] = {subjects[j]: grade}\\n            except ValueError:\\n                print('Error, se ingresó una cadena de texto y eso no esta permitido. Inicie el programa de nuevo.')\\n                exit  \\n               \\n            \\n    return analisis(data)\\n\\nnotas_estudiantes()\\n    \\n\""
      ]
     },
     "execution_count": 11,
     "metadata": {},
     "output_type": "execute_result"
    }
   ],
   "source": [
    "def nombres(n) -> list:\n",
    "    return  [input(f'Ingrese el nombre del estudiante {i+1}: ') for i in range(n)] #crea una lista con los alumnos\n",
    "    \n",
    "def asignaturas(a) -> list:\n",
    "    return [input(f'Ingrese el nombre de la asignatura {i+1}: ') for i in range(a)] #crea una lista con las asignaturas\n",
    "\n",
    "\n",
    "def analisis(data) -> list: # Analiza el estado de cada estudiante, entregando el promedio y el veredicto\n",
    "    for i in data:\n",
    "        print(f'{i} tiene las siguientes notas:')\n",
    "        t1 = []\n",
    "        for j in data[i]:\n",
    "            print(f'      {j}, Nota: {data[i][j]}')\n",
    "            t1.append(float(data[i][j]))\n",
    "            media = sum(t1) / len(t1)\n",
    "        print('    El estudiante {} con un promedio de {}'.format('aprueba' if media >= 4 else 'desaprueba',media), '\\n')\n",
    "    "
   ]
  },
  {
   "cell_type": "code",
   "execution_count": null,
   "id": "60084cd8",
   "metadata": {},
   "outputs": [
    {
     "name": "stdout",
     "output_type": "stream",
     "text": [
      "Bruno tiene las siguientes notas:\n",
      "      Mate, Nota: 2.0\n",
      "      Lengua, Nota: 3.0\n",
      "    El estudiante desaprueba con un promedio de 2.5 \n",
      "\n",
      "Florencia tiene las siguientes notas:\n",
      "      Mate, Nota: 6.0\n",
      "      Lengua, Nota: 7.0\n",
      "    El estudiante aprueba con un promedio de 6.5 \n",
      "\n"
     ]
    }
   ],
   "source": [
    "# Ejecución de programa\n",
    "\n",
    "Alumnos = nombres(int(input('Ingrese la cantidad de estudiantes'))) # Pide la cantidad de estudiantes\n",
    "Asignaturas = asignaturas(int(input('Ingrese la cantidad de asignaturas'))) # Pide la cantidad de asignatura\n",
    "\n",
    "data = {} # diccionario que almacena toda la información\n",
    "\n",
    "for i in range(len(Alumnos)): # itera en cada alumno de la lista Alumnos\n",
    "    temp_mark_dict = {}\n",
    "    for j in range(len(Asignaturas)): # Itera en cada Asignatura de la lista de Asignaturas\n",
    "        try:\n",
    "            temp_mark = float(input(f'Ingrese la nota del estudiante {Alumnos[i]} en la asignatura {Asignaturas[j]}:\\n'))\n",
    "             \n",
    "        except ValueError:\n",
    "            print('se ingresó un caracter de texto en las notas')\n",
    "            break\n",
    "            \n",
    "        if temp_mark < 0 or temp_mark > 10:\n",
    "            print('nota fuera de rango')\n",
    "            \n",
    "        temp_mark_dict[Asignaturas[j]] = temp_mark\n",
    "    data[Alumnos[i]] = temp_mark_dict\n",
    "\n",
    "analisis(data)\n",
    "    "
   ]
  }
 ],
 "metadata": {
  "kernelspec": {
   "display_name": "USS2",
   "language": "python",
   "name": "python3"
  },
  "language_info": {
   "codemirror_mode": {
    "name": "ipython",
    "version": 3
   },
   "file_extension": ".py",
   "mimetype": "text/x-python",
   "name": "python",
   "nbconvert_exporter": "python",
   "pygments_lexer": "ipython3",
   "version": "3.7.16"
  }
 },
 "nbformat": 4,
 "nbformat_minor": 5
}
