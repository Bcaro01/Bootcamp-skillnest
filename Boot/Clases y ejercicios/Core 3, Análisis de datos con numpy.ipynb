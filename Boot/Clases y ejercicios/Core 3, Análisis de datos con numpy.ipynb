{
 "cells": [
  {
   "cell_type": "code",
   "execution_count": 68,
   "id": "2efc0b61",
   "metadata": {},
   "outputs": [
    {
     "name": "stdout",
     "output_type": "stream",
     "text": [
      "Total de ventas por producto a lo largo de la semana: [1612 1702 1610 1820 1440 1625 2027 1679 1655 1493]\n",
      "Total de ventas por tienda a lo largo de la semana: [3548 3533 2787 3140 3655]\n",
      "Promedio de ventas por producto por día: [46.05714286 48.62857143 46.         52.         41.14285714 46.42857143\n",
      " 57.91428571 47.97142857 47.28571429 42.65714286]\n",
      "Promedio de ventas por tienda por día: [50.68571429 50.47142857 39.81428571 44.85714286 52.21428571]\n",
      "Producto con mayor ventas: Producto 6\n",
      "Producto con menor ventas: Producto 4\n",
      "Tienda con mayor ventas: Tienda 4\n",
      "Tienda con menor ventas: Tienda 2\n"
     ]
    }
   ],
   "source": [
    "import numpy as np\n",
    "\n",
    "def generar_datos_ventas(productos, tiendas, dias):\n",
    "    # Genera datos de ventas aleatorias para el número de productos, tiendas y días especificados\n",
    "    return np.random.randint(0, 101, (productos, tiendas, dias))\n",
    "\n",
    "def calcular_totales_ventas_por_producto(datos):\n",
    "    # Calcula el total de ventas por producto a lo largo de la semana\n",
    "    return np.sum(datos, axis=(1, 2))\n",
    "\n",
    "def calcular_totales_ventas_por_tienda(datos):\n",
    "    # Calcula el total de ventas por tienda a lo largo de la semana\n",
    "    return np.sum(datos, axis=(0, 2))\n",
    "\n",
    "def calcular_promedio_ventas_por_producto(datos):\n",
    "    # Calcula el promedio de ventas por producto por día\n",
    "    return np.mean(datos, axis=(1, 2))\n",
    "\n",
    "def calcular_promedio_ventas_por_tienda(datos):\n",
    "    # Calcula el promedio de ventas por tienda por día\n",
    "    return np.mean(datos, axis=(0, 2))\n",
    "\n",
    "def encontrar_producto_mayor_menor_ventas(totales_por_producto):\n",
    "    # Encuentra el producto con mayor y menor ventas totales en la semana\n",
    "    producto_mayor_ventas = np.argmax(totales_por_producto)\n",
    "    producto_menor_ventas = np.argmin(totales_por_producto)\n",
    "    return producto_mayor_ventas, producto_menor_ventas\n",
    "\n",
    "def encontrar_tienda_mayor_menor_ventas(totales_por_tienda):\n",
    "    # Encuentra la tienda con mayor y menor ventas totales en la semana\n",
    "    tienda_mayor_ventas = np.argmax(totales_por_tienda)\n",
    "    tienda_menor_ventas = np.argmin(totales_por_tienda)\n",
    "    return tienda_mayor_ventas, tienda_menor_ventas\n",
    "\n",
    "def imprimir_resumen(estudiantes):\n",
    "    # Imprime un resumen con el nombre de los estudiantes, su promedio y su estado\n",
    "    pass\n",
    "\n",
    "productos = 10\n",
    "tiendas = 5\n",
    "dias = 7\n",
    "\n",
    "# Genera los datos de ventas\n",
    "datos = generar_datos_ventas(productos, tiendas, dias)\n",
    "\n",
    "# Calcula los totales y promedios\n",
    "totales_por_producto = calcular_totales_ventas_por_producto(datos)\n",
    "totales_por_tienda = calcular_totales_ventas_por_tienda(datos)\n",
    "promedio_por_producto = calcular_promedio_ventas_por_producto(datos)\n",
    "promedio_por_tienda = calcular_promedio_ventas_por_tienda(datos)\n",
    "\n",
    "# Encuentra el producto y la tienda con mayor y menor ventas\n",
    "producto_mayor_ventas, producto_menor_ventas = encontrar_producto_mayor_menor_ventas(totales_por_producto)\n",
    "tienda_mayor_ventas, tienda_menor_ventas = encontrar_tienda_mayor_menor_ventas(totales_por_tienda)\n",
    "\n",
    "# Imprime los resultados\n",
    "print(\"Total de ventas por producto a lo largo de la semana:\", totales_por_producto)\n",
    "print(\"Total de ventas por tienda a lo largo de la semana:\", totales_por_tienda)\n",
    "print(\"Promedio de ventas por producto por día:\", promedio_por_producto)\n",
    "print(\"Promedio de ventas por tienda por día:\", promedio_por_tienda)\n",
    "print(f\"Producto con mayor ventas: Producto {producto_mayor_ventas}\")\n",
    "print(f\"Producto con menor ventas: Producto {producto_menor_ventas}\")\n",
    "print(f\"Tienda con mayor ventas: Tienda {tienda_mayor_ventas}\")\n",
    "print(f\"Tienda con menor ventas: Tienda {tienda_menor_ventas}\")"
   ]
  }
 ],
 "metadata": {
  "kernelspec": {
   "display_name": "USS2",
   "language": "python",
   "name": "python3"
  },
  "language_info": {
   "codemirror_mode": {
    "name": "ipython",
    "version": 3
   },
   "file_extension": ".py",
   "mimetype": "text/x-python",
   "name": "python",
   "nbconvert_exporter": "python",
   "pygments_lexer": "ipython3",
   "version": "3.7.16"
  }
 },
 "nbformat": 4,
 "nbformat_minor": 5
}
