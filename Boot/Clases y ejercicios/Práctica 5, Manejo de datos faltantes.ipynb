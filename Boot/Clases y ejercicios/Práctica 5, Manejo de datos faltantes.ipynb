{
 "cells": [
  {
   "cell_type": "markdown",
   "id": "89e2c65d",
   "metadata": {},
   "source": [
    "# Caso 1, Interpolación y relleno"
   ]
  },
  {
   "cell_type": "code",
   "execution_count": 16,
   "id": "f6f215a6",
   "metadata": {},
   "outputs": [],
   "source": [
    "import pandas as pd\n",
    "import numpy as np\n",
    "\n",
    "# Crear un DataFrame de ejemplo\n",
    "data = {\n",
    "    'fecha': pd.date_range(start='1/1/2022', periods=10),\n",
    "    'ventas': [100, 200, np.nan, 400, 500, np.nan, 700, 800, 900, np.nan]\n",
    "}\n",
    "df = pd.DataFrame(data)\n"
   ]
  },
  {
   "cell_type": "code",
   "execution_count": 17,
   "id": "2ac27165",
   "metadata": {},
   "outputs": [
    {
     "name": "stdout",
     "output_type": "stream",
     "text": [
      "       fecha  ventas\n",
      "0 2022-01-01   100.0\n",
      "1 2022-01-02   200.0\n",
      "2 2022-01-03   300.0\n",
      "3 2022-01-04   400.0\n",
      "4 2022-01-05   500.0\n",
      "5 2022-01-06   600.0\n",
      "6 2022-01-07   700.0\n",
      "7 2022-01-08   800.0\n",
      "8 2022-01-09   900.0\n",
      "9 2022-01-10   900.0\n"
     ]
    }
   ],
   "source": [
    "# Interpolación de valores faltantes\n",
    "df['ventas'] = df['ventas'].interpolate()\n",
    "print(df)"
   ]
  },
  {
   "cell_type": "code",
   "execution_count": null,
   "id": "f8947f9b",
   "metadata": {},
   "outputs": [
    {
     "name": "stdout",
     "output_type": "stream",
     "text": [
      "       fecha  ventas\n",
      "0 2022-01-01   100.0\n",
      "1 2022-01-02   200.0\n",
      "2 2022-01-03   300.0\n",
      "3 2022-01-04   400.0\n",
      "4 2022-01-05   500.0\n",
      "5 2022-01-06   600.0\n",
      "6 2022-01-07   700.0\n",
      "7 2022-01-08   800.0\n",
      "8 2022-01-09   900.0\n",
      "9 2022-01-10   900.0\n"
     ]
    }
   ],
   "source": [
    "# Relleno hacia adelante de valores faltantes\n",
    "df['ventas'] = df['ventas'].ffill()\n",
    "print(df)\n"
   ]
  },
  {
   "cell_type": "code",
   "execution_count": null,
   "id": "82e0c956",
   "metadata": {},
   "outputs": [
    {
     "name": "stdout",
     "output_type": "stream",
     "text": [
      "       fecha  ventas\n",
      "0 2022-01-01   100.0\n",
      "1 2022-01-02   200.0\n",
      "2 2022-01-03   300.0\n",
      "3 2022-01-04   400.0\n",
      "4 2022-01-05   500.0\n",
      "5 2022-01-06   600.0\n",
      "6 2022-01-07   700.0\n",
      "7 2022-01-08   800.0\n",
      "8 2022-01-09   900.0\n",
      "9 2022-01-10   900.0\n"
     ]
    }
   ],
   "source": [
    "\n",
    "# Relleno hacia atrás de valores faltantes\n",
    "df['ventas'] = df['ventas'].bfill()\n",
    "print(df)"
   ]
  },
  {
   "cell_type": "markdown",
   "id": "485a5d19",
   "metadata": {},
   "source": [
    "# Uso de valores estadístidos para reemplazar valores nulos"
   ]
  },
  {
   "cell_type": "code",
   "execution_count": null,
   "id": "c19a02e5",
   "metadata": {},
   "outputs": [],
   "source": [
    "# se usa .fillna() para reemplazar los valores nulos con lo puesto dentro del argumento\n",
    "# comúnmente, se rellena con la media, mediana y moda\n",
    "\n",
    "import pandas as pd\n",
    "import numpy as np\n",
    "\n",
    "# Crear un DataFrame de ejemplo\n",
    "data = {\n",
    "    'estudiante': ['A', 'B', 'C', 'D', 'E'],\n",
    "    'calificacion': [85, 90, np.nan, 78, np.nan]\n",
    "}\n",
    "df = pd.DataFrame(data)\n",
    "\n",
    "# Rellenar valores nulos con la media de la columna\n",
    "df['calificacion_media'] = df['calificacion'].fillna(df['calificacion'].mean())\n",
    "print(\"Rellenar con la media:\")\n",
    "print(df)\n",
    "\n",
    "# Rellenar valores nulos con la mediana de la columna\n",
    "df['calificacion_mediana'] = df['calificacion'].fillna(df['calificacion'].median())\n",
    "print(\"nRellenar con la mediana:\")\n",
    "print(df)\n",
    "\n",
    "# Rellenar valores nulos con la moda de la columna\n",
    "df['calificacion_moda'] = df['calificacion'].fillna(df['calificacion'].mode()[0])\n",
    "print(\"nRellenar con la moda:\")\n",
    "print(df)"
   ]
  },
  {
   "cell_type": "markdown",
   "id": "0398d48a",
   "metadata": {},
   "source": [
    "# Eliminación, último recurso"
   ]
  },
  {
   "cell_type": "code",
   "execution_count": null,
   "id": "de8989c9",
   "metadata": {},
   "outputs": [],
   "source": [
    "import pandas as pd\n",
    "import numpy as np\n",
    "\n",
    "# Crear un DataFrame de ejemplo\n",
    "data = {\n",
    "    'nombre': ['Ana', 'Luis', 'Carlos', 'Marta', 'Pedro'],\n",
    "    'edad': [28, 35, np.nan, 42, 25],\n",
    "    'ciudad': ['Madrid', np.nan, 'Barcelona', 'Valencia', np.nan]\n",
    "}\n",
    "df = pd.DataFrame(data)\n",
    "\n",
    "# Mostrar el DataFrame original\n",
    "print(\"DataFrame original:\")\n",
    "print(df)\n",
    "\n",
    "# Eliminar filas con datos faltantes\n",
    "df_sin_filas_nulas = df.dropna()\n",
    "print(\"nDataFrame sin filas con datos faltantes:\")\n",
    "print(df_sin_filas_nulas)\n",
    "\n",
    "# Eliminar columnas con datos faltantes\n",
    "df_sin_columnas_nulas = df.dropna(axis=1)\n",
    "print(\"nDataFrame sin columnas con datos faltantes:\")\n",
    "print(df_sin_columnas_nulas)"
   ]
  }
 ],
 "metadata": {
  "kernelspec": {
   "display_name": "USS2",
   "language": "python",
   "name": "python3"
  },
  "language_info": {
   "codemirror_mode": {
    "name": "ipython",
    "version": 3
   },
   "file_extension": ".py",
   "mimetype": "text/x-python",
   "name": "python",
   "nbconvert_exporter": "python",
   "pygments_lexer": "ipython3",
   "version": "3.7.16"
  }
 },
 "nbformat": 4,
 "nbformat_minor": 5
}
