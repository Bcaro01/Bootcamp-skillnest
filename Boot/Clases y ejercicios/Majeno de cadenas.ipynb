{
 "cells": [
  {
   "cell_type": "code",
   "execution_count": null,
   "id": "a2a6d279",
   "metadata": {},
   "outputs": [
    {
     "name": "stdout",
     "output_type": "stream",
     "text": [
      "Hola Bruno, que se siente tener 24 años?\n"
     ]
    }
   ],
   "source": [
    "#Ejercicio 1\n",
    "print(f\"Hola {input('¿Cómo te llamas? ')}, ¿qué se siente tener {input('¿Cuántos años tienes? ')} años?\")"
   ]
  },
  {
   "cell_type": "code",
   "execution_count": null,
   "id": "65b93bcc",
   "metadata": {},
   "outputs": [
    {
     "name": "stdout",
     "output_type": "stream",
     "text": [
      "BRUNIASDA\n",
      "bruniasda\n",
      "0\n",
      "1\n",
      "2\n",
      "3\n",
      "4\n",
      "5\n",
      "6\n",
      "7\n",
      "8\n",
      "Bruni4sd4\n"
     ]
    }
   ],
   "source": [
    "# Ejercicio 2\n",
    "name = input(\"¿Cómo te llamas? \")\n",
    "\n",
    "print(name.upper())\n",
    "print(name.lower())\n",
    "\n",
    "\n",
    "for i in range(len(name)):\n",
    "    print(i)\n",
    "\n",
    "name = input(\"¿Cómo te llamas? \")\n",
    "print(name)"
   ]
  },
  {
   "cell_type": "code",
   "execution_count": 10,
   "id": "f191a2a6",
   "metadata": {},
   "outputs": [
    {
     "name": "stdout",
     "output_type": "stream",
     "text": [
      "d\n",
      "f\n",
      "g\n"
     ]
    }
   ],
   "source": [
    "l = input(\"Ingresa una lista de nombres separados por comas: \")\n",
    "l = l.split(\",\")\n",
    "for i in range(len(l)):\n",
    "    l[i] = l[i].strip()\n",
    "\n",
    "for i in l:\n",
    "    print(i)\n"
   ]
  }
 ],
 "metadata": {
  "kernelspec": {
   "display_name": "USS2",
   "language": "python",
   "name": "python3"
  },
  "language_info": {
   "codemirror_mode": {
    "name": "ipython",
    "version": 3
   },
   "file_extension": ".py",
   "mimetype": "text/x-python",
   "name": "python",
   "nbconvert_exporter": "python",
   "pygments_lexer": "ipython3",
   "version": "3.7.16"
  }
 },
 "nbformat": 4,
 "nbformat_minor": 5
}
