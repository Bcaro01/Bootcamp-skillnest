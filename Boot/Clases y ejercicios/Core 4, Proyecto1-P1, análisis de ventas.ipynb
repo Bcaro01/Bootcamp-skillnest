{
 "cells": [
  {
   "cell_type": "markdown",
   "id": "6f72a2d4",
   "metadata": {},
   "source": [
    "En esta primera parte del proyecto, los estudiantes realizarán un análisis preliminar del dataset utilizando NumPy. El objetivo es familiarizarse con los datos y realizar operaciones básicas de manipulación y análisis.\n",
    "\n",
    "### Instrucciones\n",
    "\n",
    "1. Configuración Inicial del Proyecto:\n",
    "- Crea un repositorio en GitHub para tu proyecto.\n",
    "- Configura dos ramas en tu repositorio: main y development.\n",
    "- Agrega un archivo README.md con una descripción del proyecto, instrucciones de instalación y uso.\n",
    "2. Carga y Preprocesamiento de Datos:\n",
    "- Carga los datos del archivo CSV utilizando NumPy.\n",
    "- Realiza un preprocesamiento básico para asegurarte de que los datos estén limpios y listos para su análisis.\n",
    "3. Exploración de Datos:\n",
    "- Calcula el total de ventas por categoría de producto.\n",
    "- Calcula el promedio de ventas diarias por categoría de producto.\n",
    "- Identifica las categorías de productos con mayores y menores ventas.\n",
    "4. Manipulación de Datos:\n",
    "- Filtra los datos para mostrar solo las ventas de una categoría de producto específica.\n",
    "- Realiza operaciones de suma, resta, multiplicación y división en los datos para obtener estadísticas adicionales."
   ]
  },
  {
   "cell_type": "markdown",
   "id": "9572642e",
   "metadata": {},
   "source": [
    "### Librerías"
   ]
  },
  {
   "cell_type": "code",
   "execution_count": 1,
   "id": "353bec37",
   "metadata": {},
   "outputs": [],
   "source": [
    "import pandas as pd\n",
    "import numpy as np"
   ]
  },
  {
   "cell_type": "code",
   "execution_count": 2,
   "id": "88feedf3",
   "metadata": {},
   "outputs": [
    {
     "name": "stdout",
     "output_type": "stream",
     "text": [
      "Index(['Transaction ID', 'Date', 'Customer ID', 'Gender', 'Age',\n",
      "       'Product Category', 'Quantity', 'Price per Unit', 'Total Amount'],\n",
      "      dtype='object')\n",
      "     Transaction ID        Date Customer ID  Gender  Age Product Category  \\\n",
      "0                 1  2023-11-24     CUST001    Male   34           Beauty   \n",
      "510             511  2023-08-12     CUST511    Male   45           Beauty   \n",
      "509             510  2023-06-10     CUST510  Female   39           Beauty   \n",
      "507             508  2023-08-11     CUST508    Male   58           Beauty   \n",
      "505             506  2023-02-25     CUST506    Male   34           Beauty   \n",
      "..              ...         ...         ...     ...  ...              ...   \n",
      "699             700  2023-12-09     CUST700    Male   36      Electronics   \n",
      "697             698  2023-07-19     CUST698  Female   64      Electronics   \n",
      "694             695  2023-08-12     CUST695  Female   22      Electronics   \n",
      "424             425  2023-05-15     CUST425  Female   55      Electronics   \n",
      "999            1000  2023-04-12    CUST1000    Male   47      Electronics   \n",
      "\n",
      "     Quantity  Price per Unit  Total Amount  \n",
      "0           3              50           150  \n",
      "510         2              50           100  \n",
      "509         4              50           200  \n",
      "507         2             300           600  \n",
      "505         3             500          1500  \n",
      "..        ...             ...           ...  \n",
      "699         4             500          2000  \n",
      "697         1             300           300  \n",
      "694         3              50           150  \n",
      "424         4              30           120  \n",
      "999         4              30           120  \n",
      "\n",
      "[1000 rows x 9 columns]\n"
     ]
    }
   ],
   "source": [
    "# Carga y procesamiento de datos\n",
    "path = 'C:/Users/Bcaro/OneDrive/Documentos/VSC/Skillnest/Boot/Clases y ejercicios/Excels - Datos/retail_sales_dataset.csv'\n",
    "df = pd.read_csv(path)\n",
    "#print(df.head())\n",
    "#print(df.tail())\n",
    "print(df.columns)\n",
    "print(df.sort_values(by='Product Category', ascending=True))\n"
   ]
  },
  {
   "cell_type": "code",
   "execution_count": 3,
   "id": "ab2c49df",
   "metadata": {},
   "outputs": [
    {
     "name": "stdout",
     "output_type": "stream",
     "text": [
      "El total de ventas por categoría de producto es:\n",
      " Product Category\n",
      "Beauty         143515\n",
      "Clothing       155580\n",
      "Electronics    156905\n",
      "Name: Total Amount, dtype: int64\n",
      "El total de ventas por fecha y categoría de producto es:\n",
      " Date        Product Category\n",
      "2023-01-01  Beauty              1500\n",
      "            Clothing            2100\n",
      "2023-01-02  Beauty                25\n",
      "            Clothing            1650\n",
      "            Electronics           90\n",
      "                                ... \n",
      "2023-12-29  Beauty              3300\n",
      "            Electronics          100\n",
      "2023-12-31  Electronics           50\n",
      "2024-01-01  Beauty              1500\n",
      "            Electronics           30\n",
      "Name: Total Amount, Length: 655, dtype: int64\n",
      "La categoría de producto con mayor venta es:\n",
      " Product Category\n",
      "Electronics    156905\n",
      "Name: Total Amount, dtype: int64\n",
      "La categoría de producto con menor venta es:\n",
      " Product Category\n",
      "Beauty    143515\n",
      "Name: Total Amount, dtype: int64\n"
     ]
    }
   ],
   "source": [
    "#Exploración de datos\n",
    "Explora_data = df.loc[:,['Date', 'Product Category', 'Quantity','Price per Unit', 'Total Amount']]\n",
    "\n",
    "A = Explora_data.groupby(['Product Category'])['Total Amount'].sum()\n",
    "B = Explora_data.groupby(['Date', 'Product Category'])['Total Amount'].sum()\n",
    "C = Explora_data.groupby(['Product Category'])['Total Amount'].sum().sort_values(ascending=False).head(1)\n",
    "D = Explora_data.groupby(['Product Category'])['Total Amount'].sum().sort_values(ascending=True).head(1)\n",
    "\n",
    "print(\"El total de ventas por categoría de producto es:\\n\", A)\n",
    "print(\"El total de ventas por fecha y categoría de producto es:\\n\", B)\n",
    "print(\"La categoría de producto con mayor venta es:\\n\", C)\n",
    "print(\"La categoría de producto con menor venta es:\\n\", D)\n",
    "\n"
   ]
  },
  {
   "cell_type": "code",
   "execution_count": 4,
   "id": "5265b708",
   "metadata": {},
   "outputs": [
    {
     "name": "stdout",
     "output_type": "stream",
     "text": [
      "Del total de los clientes, un 49.0 corresponde a hombres.\n",
      "Mientras que un 51.0 corresponde a mujeres\n"
     ]
    }
   ],
   "source": [
    "#Manipulación de datos\n",
    "\n",
    "f1 = df['Gender'] == \"Male\"\n",
    "f2 = df['Age'] >= 50\n",
    "f3 = df['Product Category'] == \"Electronics\"\n",
    "f4 = df['Gender'] == \"Female\"\n",
    "\n",
    "filt_df = df[f1 & f2 & f3].sort_values(by='Date', ascending=True)\n",
    "\n",
    "#print(\"La media de edad de los compradores de sobre 50 años es de:\\n\", filt_df['Age'].mean())\n",
    "\n",
    "Hombres = df[f1].count()['Gender']\n",
    "Mujeres = df[f4].count()['Gender']\n",
    "\n",
    "print(\"Del total de los clientes, un {} corresponde a hombres.\\nMientras que un {} corresponde a mujeres\".format(Hombres*100/df['Gender'].count(), Mujeres*100/df['Gender'].count()))\n",
    "\n",
    "\n"
   ]
  }
 ],
 "metadata": {
  "kernelspec": {
   "display_name": "USS2",
   "language": "python",
   "name": "python3"
  },
  "language_info": {
   "codemirror_mode": {
    "name": "ipython",
    "version": 3
   },
   "file_extension": ".py",
   "mimetype": "text/x-python",
   "name": "python",
   "nbconvert_exporter": "python",
   "pygments_lexer": "ipython3",
   "version": "3.7.16"
  }
 },
 "nbformat": 4,
 "nbformat_minor": 5
}
